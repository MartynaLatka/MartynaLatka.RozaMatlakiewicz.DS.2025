{
 "cells": [
  {
   "cell_type": "code",
   "execution_count": 20,
   "metadata": {},
   "outputs": [],
   "source": [
    "# Import the pandas package and name it 'pd'\n",
    "import pandas as pd"
   ]
  },
  {
   "cell_type": "code",
   "execution_count": 21,
   "metadata": {},
   "outputs": [],
   "source": [
    "import ssl\n",
    "ssl._create_default_https_context = ssl._create_unverified_context\n"
   ]
  },
  {
   "cell_type": "code",
   "execution_count": 22,
   "metadata": {},
   "outputs": [
    {
     "name": "stdout",
     "output_type": "stream",
     "text": [
      "Path to dataset files: /Users/roza/.cache/kagglehub/datasets/arshid/iris-flower-dataset/versions/1\n"
     ]
    }
   ],
   "source": [
    "import kagglehub\n",
    "\n",
    "# Download latest version\n",
    "path = kagglehub.dataset_download(\"arshid/iris-flower-dataset\")\n",
    "\n",
    "print(\"Path to dataset files:\", path)"
   ]
  },
  {
   "cell_type": "code",
   "execution_count": 23,
   "metadata": {},
   "outputs": [],
   "source": [
    "\n",
    "# Load the iris_dataset.csv and save it as the variable: df\n",
    "\n",
    "df = pd.read_csv(\"/Users/roza/.cache/kagglehub/datasets/arshid/iris-flower-dataset/versions/1/IRIS.csv\")"
   ]
  },
  {
   "cell_type": "code",
   "execution_count": 24,
   "metadata": {},
   "outputs": [
    {
     "data": {
      "text/html": [
       "<div>\n",
       "<style scoped>\n",
       "    .dataframe tbody tr th:only-of-type {\n",
       "        vertical-align: middle;\n",
       "    }\n",
       "\n",
       "    .dataframe tbody tr th {\n",
       "        vertical-align: top;\n",
       "    }\n",
       "\n",
       "    .dataframe thead th {\n",
       "        text-align: right;\n",
       "    }\n",
       "</style>\n",
       "<table border=\"1\" class=\"dataframe\">\n",
       "  <thead>\n",
       "    <tr style=\"text-align: right;\">\n",
       "      <th></th>\n",
       "      <th>sepal_length</th>\n",
       "      <th>sepal_width</th>\n",
       "      <th>petal_length</th>\n",
       "      <th>petal_width</th>\n",
       "      <th>species</th>\n",
       "    </tr>\n",
       "  </thead>\n",
       "  <tbody>\n",
       "    <tr>\n",
       "      <th>0</th>\n",
       "      <td>5.1</td>\n",
       "      <td>3.5</td>\n",
       "      <td>1.4</td>\n",
       "      <td>0.2</td>\n",
       "      <td>Iris-setosa</td>\n",
       "    </tr>\n",
       "    <tr>\n",
       "      <th>1</th>\n",
       "      <td>4.9</td>\n",
       "      <td>3.0</td>\n",
       "      <td>1.4</td>\n",
       "      <td>0.2</td>\n",
       "      <td>Iris-setosa</td>\n",
       "    </tr>\n",
       "    <tr>\n",
       "      <th>2</th>\n",
       "      <td>4.7</td>\n",
       "      <td>3.2</td>\n",
       "      <td>1.3</td>\n",
       "      <td>0.2</td>\n",
       "      <td>Iris-setosa</td>\n",
       "    </tr>\n",
       "    <tr>\n",
       "      <th>3</th>\n",
       "      <td>4.6</td>\n",
       "      <td>3.1</td>\n",
       "      <td>1.5</td>\n",
       "      <td>0.2</td>\n",
       "      <td>Iris-setosa</td>\n",
       "    </tr>\n",
       "    <tr>\n",
       "      <th>4</th>\n",
       "      <td>5.0</td>\n",
       "      <td>3.6</td>\n",
       "      <td>1.4</td>\n",
       "      <td>0.2</td>\n",
       "      <td>Iris-setosa</td>\n",
       "    </tr>\n",
       "  </tbody>\n",
       "</table>\n",
       "</div>"
      ],
      "text/plain": [
       "   sepal_length  sepal_width  petal_length  petal_width      species\n",
       "0           5.1          3.5           1.4          0.2  Iris-setosa\n",
       "1           4.9          3.0           1.4          0.2  Iris-setosa\n",
       "2           4.7          3.2           1.3          0.2  Iris-setosa\n",
       "3           4.6          3.1           1.5          0.2  Iris-setosa\n",
       "4           5.0          3.6           1.4          0.2  Iris-setosa"
      ]
     },
     "execution_count": 24,
     "metadata": {},
     "output_type": "execute_result"
    }
   ],
   "source": [
    "# Display the top 5 rows of the dataset\n",
    "\n",
    "df.head()\n",
    "\n"
   ]
  },
  {
   "cell_type": "code",
   "execution_count": 4,
   "metadata": {},
   "outputs": [
    {
     "name": "stderr",
     "output_type": "stream",
     "text": [
      "Matplotlib is building the font cache; this may take a moment.\n"
     ]
    },
    {
     "data": {
      "text/html": [
       "<div>\n",
       "<style scoped>\n",
       "    .dataframe tbody tr th:only-of-type {\n",
       "        vertical-align: middle;\n",
       "    }\n",
       "\n",
       "    .dataframe tbody tr th {\n",
       "        vertical-align: top;\n",
       "    }\n",
       "\n",
       "    .dataframe thead th {\n",
       "        text-align: right;\n",
       "    }\n",
       "</style>\n",
       "<table border=\"1\" class=\"dataframe\">\n",
       "  <thead>\n",
       "    <tr style=\"text-align: right;\">\n",
       "      <th></th>\n",
       "      <th>mpg</th>\n",
       "      <th>cylinders</th>\n",
       "      <th>displacement</th>\n",
       "      <th>horsepower</th>\n",
       "      <th>weight</th>\n",
       "      <th>acceleration</th>\n",
       "      <th>model_year</th>\n",
       "      <th>origin</th>\n",
       "      <th>name</th>\n",
       "    </tr>\n",
       "  </thead>\n",
       "  <tbody>\n",
       "    <tr>\n",
       "      <th>0</th>\n",
       "      <td>18.0</td>\n",
       "      <td>8</td>\n",
       "      <td>307.0</td>\n",
       "      <td>130.0</td>\n",
       "      <td>3504</td>\n",
       "      <td>12.0</td>\n",
       "      <td>70</td>\n",
       "      <td>usa</td>\n",
       "      <td>chevrolet chevelle malibu</td>\n",
       "    </tr>\n",
       "    <tr>\n",
       "      <th>1</th>\n",
       "      <td>15.0</td>\n",
       "      <td>8</td>\n",
       "      <td>350.0</td>\n",
       "      <td>165.0</td>\n",
       "      <td>3693</td>\n",
       "      <td>11.5</td>\n",
       "      <td>70</td>\n",
       "      <td>usa</td>\n",
       "      <td>buick skylark 320</td>\n",
       "    </tr>\n",
       "    <tr>\n",
       "      <th>2</th>\n",
       "      <td>18.0</td>\n",
       "      <td>8</td>\n",
       "      <td>318.0</td>\n",
       "      <td>150.0</td>\n",
       "      <td>3436</td>\n",
       "      <td>11.0</td>\n",
       "      <td>70</td>\n",
       "      <td>usa</td>\n",
       "      <td>plymouth satellite</td>\n",
       "    </tr>\n",
       "  </tbody>\n",
       "</table>\n",
       "</div>"
      ],
      "text/plain": [
       "    mpg  cylinders  displacement  horsepower  weight  acceleration  \\\n",
       "0  18.0          8         307.0       130.0    3504          12.0   \n",
       "1  15.0          8         350.0       165.0    3693          11.5   \n",
       "2  18.0          8         318.0       150.0    3436          11.0   \n",
       "\n",
       "   model_year origin                       name  \n",
       "0          70    usa  chevrolet chevelle malibu  \n",
       "1          70    usa          buick skylark 320  \n",
       "2          70    usa         plymouth satellite  "
      ]
     },
     "execution_count": 4,
     "metadata": {},
     "output_type": "execute_result"
    }
   ],
   "source": [
    "import pandas as pd\n",
    "import seaborn as sns\n",
    "cars = sns.load_dataset('mpg')\n",
    "from dfply import *\n",
    "cars >> head(3)"
   ]
  },
  {
   "cell_type": "code",
   "execution_count": null,
   "metadata": {},
   "outputs": [
    {
     "name": "stdout",
     "output_type": "stream",
     "text": [
      "    mpg  horsepower\n",
      "0  18.0       130.0\n",
      "1  15.0       165.0\n",
      "2  18.0       150.0\n"
     ]
    }
   ],
   "source": [
    "#ex1\n",
    "selected_columns1 = cars >> select(X.mpg, X.horsepower) >> head(3)\n",
    "print(selected_columns1)"
   ]
  },
  {
   "cell_type": "code",
   "execution_count": null,
   "metadata": {},
   "outputs": [
    {
     "name": "stdout",
     "output_type": "stream",
     "text": [
      "    mpg  horsepower\n",
      "0  18.0       130.0\n",
      "1  15.0       165.0\n",
      "2  18.0       150.0\n"
     ]
    }
   ],
   "source": [
    "#ex2\n",
    "selected_columns2 = cars >> drop(X.weight, X.origin, X.cylinders, X.displacement, X.acceleration, X.model_year, X.name) >> head(3)\n",
    "print(selected_columns2)"
   ]
  },
  {
   "cell_type": "code",
   "execution_count": null,
   "metadata": {},
   "outputs": [
    {
     "name": "stdout",
     "output_type": "stream",
     "text": [
      "    mpg  cylinders  displacement  horsepower  weight  acceleration origin\n",
      "0  18.0          8         307.0       130.0    3504          12.0    usa\n",
      "1  15.0          8         350.0       165.0    3693          11.5    usa\n",
      "2  18.0          8         318.0       150.0    3436          11.0    usa\n"
     ]
    }
   ],
   "source": [
    "selected_columns3 = cars >> select(~X.model_year, ~X.name) >> head(3)\n",
    "print(selected_columns3)"
   ]
  },
  {
   "cell_type": "code",
   "execution_count": null,
   "metadata": {},
   "outputs": [
    {
     "name": "stdout",
     "output_type": "stream",
     "text": [
      "   cylinders\n",
      "0          8\n",
      "1          8\n",
      "2          8\n"
     ]
    }
   ],
   "source": [
    "columns_with_c = cars >> select(starts_with('c')) >> head(3)\n",
    "print(columns_with_c)"
   ]
  },
  {
   "cell_type": "code",
   "execution_count": 17,
   "metadata": {},
   "outputs": [
    {
     "name": "stdout",
     "output_type": "stream",
     "text": [
      "   cylinders  displacement  horsepower  weight  acceleration  model_year  \\\n",
      "0          8         307.0       130.0    3504          12.0          70   \n",
      "1          8         350.0       165.0    3693          11.5          70   \n",
      "2          8         318.0       150.0    3436          11.0          70   \n",
      "\n",
      "                        name  \n",
      "0  chevrolet chevelle malibu  \n",
      "1          buick skylark 320  \n",
      "2         plymouth satellite  \n"
     ]
    }
   ],
   "source": [
    "columns_with_e = cars >> select(contains('e')) >> head(3)\n",
    "print(columns_with_e)"
   ]
  },
  {
   "cell_type": "code",
   "execution_count": 18,
   "metadata": {},
   "outputs": [
    {
     "name": "stdout",
     "output_type": "stream",
     "text": [
      "    mpg  cylinders  displacement  horsepower  weight  acceleration  \\\n",
      "0  18.0          8         307.0       130.0    3504          12.0   \n",
      "1  15.0          8         350.0       165.0    3693          11.5   \n",
      "2  18.0          8         318.0       150.0    3436          11.0   \n",
      "\n",
      "   model_year origin  \n",
      "0          70    usa  \n",
      "1          70    usa  \n",
      "2          70    usa  \n"
     ]
    }
   ],
   "source": [
    "selected_columns4 = cars >> select(columns_between('mpg', 'origin')) >> head(3)\n",
    "print(selected_columns4)"
   ]
  },
  {
   "cell_type": "code",
   "execution_count": 19,
   "metadata": {},
   "outputs": [
    {
     "name": "stdout",
     "output_type": "stream",
     "text": [
      "    mpg  cylinders  displacement  horsepower  weight  acceleration  \\\n",
      "0  18.0          8         307.0       130.0    3504          12.0   \n",
      "1  15.0          8         350.0       165.0    3693          11.5   \n",
      "2  18.0          8         318.0       150.0    3436          11.0   \n",
      "\n",
      "   model_year origin                       name  \n",
      "0          70    usa  chevrolet chevelle malibu  \n",
      "1          70    usa          buick skylark 320  \n",
      "2          70    usa         plymouth satellite  \n"
     ]
    }
   ],
   "source": [
    "selected_columns5 = cars >> row_slice([0, 1, 2])\n",
    "print(selected_columns5)"
   ]
  },
  {
   "cell_type": "code",
   "execution_count": 20,
   "metadata": {},
   "outputs": [
    {
     "name": "stdout",
     "output_type": "stream",
     "text": [
      "     mpg  cylinders  displacement  horsepower  weight  acceleration  \\\n",
      "0   18.0          8         307.0       130.0    3504          12.0   \n",
      "14  24.0          4         113.0        95.0    2372          15.0   \n",
      "19  26.0          4          97.0        46.0    1835          20.5   \n",
      "\n",
      "    model_year  origin                          name  \n",
      "0           70     usa     chevrolet chevelle malibu  \n",
      "14          70   japan         toyota corona mark ii  \n",
      "19          70  europe  volkswagen 1131 deluxe sedan  \n"
     ]
    }
   ],
   "source": [
    "selected_columns6 = cars >> distinct(X.origin)\n",
    "print(selected_columns6)"
   ]
  },
  {
   "cell_type": "code",
   "execution_count": 23,
   "metadata": {},
   "outputs": [
    {
     "name": "stdout",
     "output_type": "stream",
     "text": [
      "     mpg  cylinders  displacement  horsepower  weight  acceleration  \\\n",
      "14  24.0          4         113.0        95.0    2372          15.0   \n",
      "18  27.0          4          97.0        88.0    2130          14.5   \n",
      "29  27.0          4          97.0        88.0    2130          14.5   \n",
      "\n",
      "    model_year origin                   name  \n",
      "14          70  japan  toyota corona mark ii  \n",
      "18          70  japan           datsun pl510  \n",
      "29          71  japan           datsun pl510  \n"
     ]
    }
   ],
   "source": [
    "filtered_cars1 = cars >> mask(X.mpg > 20, X.origin == 'japan') >> head(3)\n",
    "print(filtered_cars1)"
   ]
  },
  {
   "cell_type": "code",
   "execution_count": 38,
   "metadata": {},
   "outputs": [
    {
     "name": "stdout",
     "output_type": "stream",
     "text": [
      "    mpg  cylinders  displacement  horsepower  weight  acceleration  \\\n",
      "0  18.0          8         307.0       130.0    3504          12.0   \n",
      "1  15.0          8         350.0       165.0    3693          11.5   \n",
      "2  18.0          8         318.0       150.0    3436          11.0   \n",
      "\n",
      "   model_year origin                       name  mpg_per_cylinder  \n",
      "0          70    usa  chevrolet chevelle malibu             2.250  \n",
      "1          70    usa          buick skylark 320             1.875  \n",
      "2          70    usa         plymouth satellite             2.250  \n"
     ]
    }
   ],
   "source": [
    "cars_transformed = cars >> mutate(mpg_per_cylinder = X.mpg / X.cylinders) >> head(3)\n",
    "print(cars_transformed)"
   ]
  },
  {
   "cell_type": "code",
   "execution_count": 41,
   "metadata": {},
   "outputs": [
    {
     "name": "stdout",
     "output_type": "stream",
     "text": [
      "   mpg_per_cylinder\n",
      "0             2.250\n",
      "1             1.875\n",
      "2             2.250\n"
     ]
    }
   ],
   "source": [
    "mpg_per_cylinder_column = (cars >> mutate(mpg_per_cylinder = X.mpg / X.cylinders) >> select(X.mpg_per_cylinder))>> head(3)\n",
    "print(mpg_per_cylinder_column)\n"
   ]
  },
  {
   "cell_type": "code",
   "execution_count": 48,
   "metadata": {},
   "outputs": [
    {
     "name": "stdout",
     "output_type": "stream",
     "text": [
      "    origin   mpg  mpg_lead  mpg_lag\n",
      "19  europe  26.0      25.0      NaN\n",
      "20  europe  25.0      24.0     26.0\n",
      "21  europe  24.0      25.0     25.0\n",
      "22  europe  25.0      26.0     24.0\n",
      "23  europe  26.0      28.0     25.0\n"
     ]
    }
   ],
   "source": [
    "cars_grouped = (cars >> group_by(X.origin)  >> mutate(mpg_lead = lead(X.mpg), mpg_lag = lag(X.mpg)) >> ungroup()) >> head(5)\n",
    "print(cars_grouped[['origin', 'mpg', 'mpg_lead', 'mpg_lag']])\n",
    "\n",
    "\n"
   ]
  },
  {
   "cell_type": "code",
   "execution_count": 49,
   "metadata": {},
   "outputs": [
    {
     "name": "stdout",
     "output_type": "stream",
     "text": [
      "      mpg  cylinders  displacement  horsepower  weight  acceleration  \\\n",
      "322  46.6          4          86.0        65.0    2110          17.9   \n",
      "329  44.6          4          91.0        67.0    1850          13.8   \n",
      "325  44.3          4          90.0        48.0    2085          21.7   \n",
      "\n",
      "     model_year  origin                  name  \n",
      "322          80   japan             mazda glc  \n",
      "329          80   japan   honda civic 1500 gl  \n",
      "325          80  europe  vw rabbit c (diesel)  \n"
     ]
    }
   ],
   "source": [
    "cars_sorted = cars >> arrange(-X.mpg) >> head(3)\n",
    "print(cars_sorted)"
   ]
  },
  {
   "cell_type": "code",
   "execution_count": 51,
   "metadata": {},
   "outputs": [
    {
     "name": "stdout",
     "output_type": "stream",
     "text": [
      "   miles_per_gallon  cylinders  displacement  horsepower  weight  \\\n",
      "0              18.0          8         307.0       130.0    3504   \n",
      "1              15.0          8         350.0       165.0    3693   \n",
      "2              18.0          8         318.0       150.0    3436   \n",
      "\n",
      "   acceleration  model_year origin                       name  \n",
      "0          12.0          70    usa  chevrolet chevelle malibu  \n",
      "1          11.5          70    usa          buick skylark 320  \n",
      "2          11.0          70    usa         plymouth satellite  \n"
     ]
    }
   ],
   "source": [
    "cars_renamed = cars >> rename(miles_per_gallon=X.mpg) >> head(3)\n",
    "print(cars_renamed)\n"
   ]
  },
  {
   "cell_type": "code",
   "execution_count": null,
   "metadata": {},
   "outputs": [
    {
     "name": "stdout",
     "output_type": "stream",
     "text": [
      "   cylinders  model_year origin                       name variable  value\n",
      "0          8          70    usa  chevrolet chevelle malibu      mpg   18.0\n",
      "1          8          70    usa          buick skylark 320      mpg   15.0\n",
      "2          8          70    usa         plymouth satellite      mpg   18.0\n"
     ]
    }
   ],
   "source": [
    "#ex16\n",
    "cars_long = cars >> gather('variable', 'value', ['mpg', 'horsepower', 'weight', 'acceleration', 'displacement']) >> head(3)\n",
    "print(cars_long)\n"
   ]
  }
 ],
 "metadata": {
  "kernelspec": {
   "display_name": "Python 3",
   "language": "python",
   "name": "python3"
  },
  "language_info": {
   "codemirror_mode": {
    "name": "ipython",
    "version": 3
   },
   "file_extension": ".py",
   "mimetype": "text/x-python",
   "name": "python",
   "nbconvert_exporter": "python",
   "pygments_lexer": "ipython3",
   "version": "3.13.2"
  }
 },
 "nbformat": 4,
 "nbformat_minor": 2
}
